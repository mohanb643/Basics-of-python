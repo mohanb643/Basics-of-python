{
 "cells": [
  {
   "cell_type": "code",
   "execution_count": 1,
   "id": "8b705b9b-9b10-4bb5-bebe-b497288f41f5",
   "metadata": {},
   "outputs": [],
   "source": [
    "import pandas as pd\n",
    "import numpy as np"
   ]
  },
  {
   "cell_type": "markdown",
   "id": "59905d05-a6c8-4088-a513-65648982bc2c",
   "metadata": {},
   "source": [
    "## Prime Numbers"
   ]
  },
  {
   "cell_type": "code",
   "execution_count": 16,
   "id": "63d92727-3d42-4abc-83ff-aaa82301d696",
   "metadata": {},
   "outputs": [
    {
     "name": "stdin",
     "output_type": "stream",
     "text": [
      "Enter a number:  2\n"
     ]
    },
    {
     "name": "stdout",
     "output_type": "stream",
     "text": [
      "2 is a prime number.\n"
     ]
    }
   ],
   "source": [
    "# Function to check if a number is prime\n",
    "def is_prime(num):\n",
    "    # Prime numbers are greater than 1\n",
    "    if num <= 1:\n",
    "        return False\n",
    "    \n",
    "    # Check divisors from 2 to sqrt(num)\n",
    "    for i in range(2, int(num**0.5) + 1):\n",
    "        if num % i == 0:\n",
    "            return False\n",
    "    return True\n",
    "\n",
    "# Take input from the user\n",
    "number = int(input(\"Enter a number: \"))\n",
    "\n",
    "# Check and display result\n",
    "if is_prime(number):\n",
    "    print(f\"{number} is a prime number.\")\n",
    "else:\n",
    "    print(f\"{number} is not a prime number.\")\n"
   ]
  },
  {
   "cell_type": "markdown",
   "id": "485b8979-1192-4bad-a2a6-a3c8798e67b5",
   "metadata": {},
   "source": [
    "## Product of Random Numbers"
   ]
  },
  {
   "cell_type": "code",
   "execution_count": 17,
   "id": "10e9078b-c1c5-4d19-a1b9-7d79da12249a",
   "metadata": {},
   "outputs": [],
   "source": [
    "import random"
   ]
  },
  {
   "cell_type": "code",
   "execution_count": 18,
   "id": "559dc460-6a0d-498c-8c7e-a9d51269c0f6",
   "metadata": {},
   "outputs": [],
   "source": [
    "# Generate two random numbers between 1 and 10\n",
    "num1 = random.randint(1, 10)\n",
    "num2 = random.randint(1, 10)"
   ]
  },
  {
   "cell_type": "code",
   "execution_count": 25,
   "id": "4118c8e3-8c9b-46fd-b316-f5c5a98c2a51",
   "metadata": {},
   "outputs": [
    {
     "name": "stdout",
     "output_type": "stream",
     "text": [
      "What is 8 × 5?\n"
     ]
    },
    {
     "name": "stdin",
     "output_type": "stream",
     "text": [
      "Your answer:  40\n"
     ]
    },
    {
     "name": "stdout",
     "output_type": "stream",
     "text": [
      "✅ Correct! Well done.\n"
     ]
    }
   ],
   "source": [
    "# Ask the user for the product\n",
    "print(f\"What is {num1} × {num2}?\")\n",
    "user_answer = int(input(\"Your answer: \"))\n",
    "\n",
    "# Check the answer\n",
    "correct_answer = num1 * num2\n",
    "\n",
    "if user_answer == correct_answer:\n",
    "    print(\"✅ Correct! Well done.\")\n",
    "else:\n",
    "    print(f\"❌ Wrong. The correct answer is {correct_answer}.\")\n"
   ]
  },
  {
   "cell_type": "markdown",
   "id": "6d826b6f-d685-40be-810a-5896155a71fa",
   "metadata": {},
   "source": [
    "## Squares of Even/Odd Numbers"
   ]
  },
  {
   "cell_type": "markdown",
   "id": "dfc26f36-f28e-4b07-86ac-0cbb4d564a4e",
   "metadata": {},
   "source": [
    "#### Choice: Even numbers (i.e., divisible by 2)\n"
   ]
  },
  {
   "cell_type": "code",
   "execution_count": 28,
   "id": "71b3f3ef-b463-46ec-bf1e-14e56d87c08a",
   "metadata": {},
   "outputs": [
    {
     "name": "stdout",
     "output_type": "stream",
     "text": [
      "The square of 100 is 10000\n",
      "The square of 102 is 10404\n",
      "The square of 104 is 10816\n",
      "The square of 106 is 11236\n",
      "The square of 108 is 11664\n",
      "The square of 110 is 12100\n",
      "The square of 112 is 12544\n",
      "The square of 114 is 12996\n",
      "The square of 116 is 13456\n",
      "The square of 118 is 13924\n",
      "The square of 120 is 14400\n",
      "The square of 122 is 14884\n",
      "The square of 124 is 15376\n",
      "The square of 126 is 15876\n",
      "The square of 128 is 16384\n",
      "The square of 130 is 16900\n",
      "The square of 132 is 17424\n",
      "The square of 134 is 17956\n",
      "The square of 136 is 18496\n",
      "The square of 138 is 19044\n",
      "The square of 140 is 19600\n",
      "The square of 142 is 20164\n",
      "The square of 144 is 20736\n",
      "The square of 146 is 21316\n",
      "The square of 148 is 21904\n",
      "The square of 150 is 22500\n",
      "The square of 152 is 23104\n",
      "The square of 154 is 23716\n",
      "The square of 156 is 24336\n",
      "The square of 158 is 24964\n",
      "The square of 160 is 25600\n",
      "The square of 162 is 26244\n",
      "The square of 164 is 26896\n",
      "The square of 166 is 27556\n",
      "The square of 168 is 28224\n",
      "The square of 170 is 28900\n",
      "The square of 172 is 29584\n",
      "The square of 174 is 30276\n",
      "The square of 176 is 30976\n",
      "The square of 178 is 31684\n",
      "The square of 180 is 32400\n",
      "The square of 182 is 33124\n",
      "The square of 184 is 33856\n",
      "The square of 186 is 34596\n",
      "The square of 188 is 35344\n",
      "The square of 190 is 36100\n",
      "The square of 192 is 36864\n",
      "The square of 194 is 37636\n",
      "The square of 196 is 38416\n",
      "The square of 198 is 39204\n",
      "The square of 200 is 40000\n"
     ]
    }
   ],
   "source": [
    "for num in range(100, 201):  # Loop from 100 to 200\n",
    "    if num % 2 == 0:  # Check if the number is even\n",
    "        square = num ** 2\n",
    "        print(f\"The square of {num} is {square}\")"
   ]
  },
  {
   "cell_type": "markdown",
   "id": "810d6af2-6255-47b9-9b7f-edb296532acf",
   "metadata": {},
   "source": [
    "## Word counter"
   ]
  },
  {
   "cell_type": "code",
   "execution_count": 33,
   "id": "51717581-0c2d-4445-884b-ed8a6d42eaac",
   "metadata": {},
   "outputs": [
    {
     "name": "stdin",
     "output_type": "stream",
     "text": [
      "enter your text:  hello everyone\n"
     ]
    },
    {
     "name": "stdout",
     "output_type": "stream",
     "text": [
      "The number of words in the given text is: 2\n"
     ]
    }
   ],
   "source": [
    "text = input(\"enter your text: \")\n",
    "\n",
    "words = text.split()\n",
    "\n",
    "word_count=len(words)\n",
    "\n",
    "print(f\"The number of words in the given text is: {word_count}\")"
   ]
  },
  {
   "cell_type": "markdown",
   "id": "b8fc0154-92fc-47e5-85bb-fdf85c5a5485",
   "metadata": {},
   "source": [
    "## Check for Palindrome"
   ]
  },
  {
   "cell_type": "code",
   "execution_count": 34,
   "id": "a2370218-dd9f-4ed1-80a1-be982cfe50c2",
   "metadata": {},
   "outputs": [],
   "source": [
    "import string"
   ]
  },
  {
   "cell_type": "code",
   "execution_count": 37,
   "id": "83df9b7e-e807-469d-84b2-0f782a620d74",
   "metadata": {},
   "outputs": [
    {
     "name": "stdout",
     "output_type": "stream",
     "text": [
      "True\n",
      "True\n",
      "False\n"
     ]
    }
   ],
   "source": [
    "def is_palindrome(text):\n",
    "    \n",
    "    # Remove spaces and punctuation, and convert to lowercase\n",
    "    cleaned = ''.join(char.lower() for char in text if char.isalnum())\n",
    "    \n",
    "    # Check if cleaned text is equal to its reverse\n",
    "    return cleaned == cleaned[::-1]\n",
    "\n",
    "print(is_palindrome(\"Racecar\"))              \n",
    "print(is_palindrome(\"A man, a plan, a canal: Panama\")) \n",
    "print(is_palindrome(\"Hello\"))                \n"
   ]
  },
  {
   "cell_type": "code",
   "execution_count": null,
   "id": "f78df447-6f5e-4378-9c15-f15ee80b674c",
   "metadata": {},
   "outputs": [],
   "source": []
  },
  {
   "cell_type": "code",
   "execution_count": null,
   "id": "0f64b686-10fd-4b2c-b32f-0ad73327a135",
   "metadata": {},
   "outputs": [],
   "source": []
  },
  {
   "cell_type": "code",
   "execution_count": null,
   "id": "e7d0ac46-2b5b-41fc-869b-8c7c8231723b",
   "metadata": {},
   "outputs": [],
   "source": []
  },
  {
   "cell_type": "code",
   "execution_count": null,
   "id": "f047c39e-695c-40bd-b674-6f83aedcf5c1",
   "metadata": {},
   "outputs": [],
   "source": []
  },
  {
   "cell_type": "code",
   "execution_count": null,
   "id": "c22cfeea-d394-4c09-8a64-7dea5f618a1d",
   "metadata": {},
   "outputs": [],
   "source": []
  },
  {
   "cell_type": "code",
   "execution_count": null,
   "id": "0669a5aa-e8b7-493d-9001-0ff7f670ffca",
   "metadata": {},
   "outputs": [],
   "source": []
  },
  {
   "cell_type": "code",
   "execution_count": null,
   "id": "ff4a96de-a138-40d4-bcb3-e96e7c429ef6",
   "metadata": {},
   "outputs": [],
   "source": []
  },
  {
   "cell_type": "code",
   "execution_count": null,
   "id": "9c9edcfb-5df7-4bcb-b5c6-a9aa3848fd82",
   "metadata": {},
   "outputs": [],
   "source": []
  },
  {
   "cell_type": "code",
   "execution_count": null,
   "id": "eca54a9d-ee91-4199-a6ce-6052a590d0c2",
   "metadata": {},
   "outputs": [],
   "source": []
  },
  {
   "cell_type": "code",
   "execution_count": null,
   "id": "b4042f57-0666-4690-ac9f-664be663b373",
   "metadata": {},
   "outputs": [],
   "source": []
  },
  {
   "cell_type": "code",
   "execution_count": null,
   "id": "69557685-05bd-4714-85f3-bcc65581c484",
   "metadata": {},
   "outputs": [],
   "source": []
  },
  {
   "cell_type": "code",
   "execution_count": null,
   "id": "f1cc074d-ec71-4398-ab31-8414897ace0e",
   "metadata": {},
   "outputs": [],
   "source": []
  },
  {
   "cell_type": "code",
   "execution_count": null,
   "id": "0b078a5f-fcc7-46ef-a6d0-86504b3023e6",
   "metadata": {},
   "outputs": [],
   "source": []
  },
  {
   "cell_type": "code",
   "execution_count": null,
   "id": "636e7286-177e-4c64-85f7-d2d96a98f5f7",
   "metadata": {},
   "outputs": [],
   "source": []
  },
  {
   "cell_type": "code",
   "execution_count": null,
   "id": "04383fde-b2ad-414e-aab8-4ce75cfad031",
   "metadata": {},
   "outputs": [],
   "source": []
  },
  {
   "cell_type": "code",
   "execution_count": null,
   "id": "90919b89-784a-4454-992d-dce0b548ca6b",
   "metadata": {},
   "outputs": [],
   "source": []
  },
  {
   "cell_type": "code",
   "execution_count": null,
   "id": "06f4b045-9081-441a-a496-41d2f7306536",
   "metadata": {},
   "outputs": [],
   "source": []
  }
 ],
 "metadata": {
  "kernelspec": {
   "display_name": "python (ai_env)",
   "language": "python",
   "name": "ai_env"
  },
  "language_info": {
   "codemirror_mode": {
    "name": "ipython",
    "version": 3
   },
   "file_extension": ".py",
   "mimetype": "text/x-python",
   "name": "python",
   "nbconvert_exporter": "python",
   "pygments_lexer": "ipython3",
   "version": "3.9.23"
  }
 },
 "nbformat": 4,
 "nbformat_minor": 5
}
